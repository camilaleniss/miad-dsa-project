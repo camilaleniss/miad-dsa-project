{
 "cells": [
  {
   "cell_type": "code",
   "execution_count": 36,
   "metadata": {},
   "outputs": [],
   "source": [
    "import numpy as np \n",
    "import pandas as pd"
   ]
  },
  {
   "cell_type": "markdown",
   "metadata": {},
   "source": [
    "# Cargar Datos"
   ]
  },
  {
   "cell_type": "code",
   "execution_count": 37,
   "metadata": {},
   "outputs": [],
   "source": [
    "#!pip install wolta"
   ]
  },
  {
   "cell_type": "code",
   "execution_count": 38,
   "metadata": {},
   "outputs": [
    {
     "data": {
      "text/plain": [
       "(982638, 28)"
      ]
     },
     "execution_count": 38,
     "metadata": {},
     "output_type": "execute_result"
    }
   ],
   "source": [
    "df = pd.read_csv('../data/Crime_Data_from_2020_to_Present.csv')\n",
    "df.shape"
   ]
  },
  {
   "cell_type": "code",
   "execution_count": 39,
   "metadata": {},
   "outputs": [
    {
     "name": "stdout",
     "output_type": "stream",
     "text": [
      "DR_NO: int64\n",
      "Date Rptd: str\n",
      "DATE OCC: str\n",
      "TIME OCC: int64\n",
      "AREA: int64\n",
      "AREA NAME: str\n",
      "Rpt Dist No: int64\n",
      "Part 1-2: int64\n",
      "Crm Cd: int64\n",
      "Crm Cd Desc: str\n",
      "Mocodes: float\n",
      "Vict Age: int64\n",
      "Vict Sex: str\n",
      "Vict Descent: str\n",
      "Premis Cd: float64\n",
      "Premis Desc: str\n",
      "Weapon Used Cd: float64\n",
      "Weapon Desc: float\n",
      "Status: str\n",
      "Status Desc: str\n",
      "Crm Cd 1: float64\n",
      "Crm Cd 2: float64\n",
      "Crm Cd 3: float64\n",
      "Crm Cd 4: float64\n",
      "LOCATION: str\n",
      "Cross Street: float\n",
      "LAT: float64\n",
      "LON: float64\n"
     ]
    }
   ],
   "source": [
    "from wolta.data_tools import col_types\n",
    "types = col_types(df, print_columns=True)"
   ]
  },
  {
   "cell_type": "code",
   "execution_count": 40,
   "metadata": {},
   "outputs": [
    {
     "name": "stdout",
     "output_type": "stream",
     "text": [
      "Mocodes has 145262 null values\n",
      "Vict Sex has 138445 null values\n",
      "Vict Descent has 138456 null values\n",
      "Premis Cd has 14 null values\n",
      "Premis Desc has 585 null values\n",
      "Weapon Used Cd has 656471 null values\n",
      "Weapon Desc has 656471 null values\n",
      "Status has 1 null values\n",
      "Crm Cd 1 has 11 null values\n",
      "Crm Cd 2 has 913763 null values\n",
      "Crm Cd 3 has 980327 null values\n",
      "Crm Cd 4 has 982574 null values\n",
      "Cross Street has 830789 null values\n"
     ]
    }
   ],
   "source": [
    "from wolta.data_tools import seek_null\n",
    "seeked = seek_null(df, print_columns=True)"
   ]
  },
  {
   "cell_type": "code",
   "execution_count": 41,
   "metadata": {},
   "outputs": [
    {
     "data": {
      "text/plain": [
       "{'DR_NO': 982638,\n",
       " 'Date Rptd': 1735,\n",
       " 'DATE OCC': 1735,\n",
       " 'TIME OCC': 1439,\n",
       " 'AREA': 21,\n",
       " 'AREA NAME': 21,\n",
       " 'Rpt Dist No': 1209,\n",
       " 'Part 1-2': 2,\n",
       " 'Crm Cd': 140,\n",
       " 'Crm Cd Desc': 140,\n",
       " 'Mocodes': 309365,\n",
       " 'Vict Age': 104,\n",
       " 'Vict Sex': 6,\n",
       " 'Vict Descent': 21,\n",
       " 'Premis Cd': 315,\n",
       " 'Premis Desc': 307,\n",
       " 'Weapon Used Cd': 80,\n",
       " 'Weapon Desc': 80,\n",
       " 'Status': 7,\n",
       " 'Status Desc': 6,\n",
       " 'Crm Cd 1': 143,\n",
       " 'Crm Cd 2': 127,\n",
       " 'Crm Cd 3': 38,\n",
       " 'Crm Cd 4': 7,\n",
       " 'LOCATION': 66265,\n",
       " 'Cross Street': 10327,\n",
       " 'LAT': 5424,\n",
       " 'LON': 4980}"
      ]
     },
     "execution_count": 41,
     "metadata": {},
     "output_type": "execute_result"
    }
   ],
   "source": [
    "from wolta.data_tools import unique_amounts\n",
    "unique_amounts(df)"
   ]
  },
  {
   "cell_type": "markdown",
   "metadata": {},
   "source": [
    "# Data Manipulation"
   ]
  },
  {
   "cell_type": "code",
   "execution_count": 42,
   "metadata": {},
   "outputs": [
    {
     "name": "stdout",
     "output_type": "stream",
     "text": [
      "The maximum tolerated null value amount is 49131\n",
      "Mocodes will be deleted because it has 145262 null values and this is 96131 values more than tolerance\n",
      "Vict Sex will be deleted because it has 138445 null values and this is 89314 values more than tolerance\n",
      "Vict Descent will be deleted because it has 138456 null values and this is 89325 values more than tolerance\n",
      "Weapon Used Cd will be deleted because it has 656471 null values and this is 607340 values more than tolerance\n",
      "Crm Cd 2 will be deleted because it has 913763 null values and this is 864632 values more than tolerance\n",
      "Crm Cd 3 will be deleted because it has 980327 null values and this is 931196 values more than tolerance\n",
      "Crm Cd 4 will be deleted because it has 982574 null values and this is 933443 values more than tolerance\n",
      "Cross Street will be deleted because it has 830789 null values and this is 781658 values more than tolerance\n",
      "The maximum tolerated unique value amount is 982.0 in string data\n",
      "Rpt Dist No might be deleted because it has 1209 unique values and this is 227.0 values more than tolerance\n",
      "LOCATION might be deleted because it has 66265 unique values and this is 65283.0 values more than tolerance\n"
     ]
    }
   ],
   "source": [
    "df['Rpt Dist No'] = df['Rpt Dist No'].astype(str)\n",
    "#Eliminar features con % de missing values\n",
    "from wolta.feature_tools import list_deletings\n",
    "df = list_deletings(df, extra=['DR_NO', 'Date Rptd', 'DATE OCC', 'TIME OCC', 'Premis Desc', 'Weapon Desc', 'AREA NAME', 'Crm Cd Desc'], unique_tolerance=0.1, null_tolerance=5)\n"
   ]
  },
  {
   "cell_type": "code",
   "execution_count": 43,
   "metadata": {},
   "outputs": [
    {
     "name": "stdout",
     "output_type": "stream",
     "text": [
      "Premis Cd has 14 null values\n",
      "Status has 1 null values\n",
      "Crm Cd 1 has 11 null values\n"
     ]
    }
   ],
   "source": [
    "del df['LOCATION']\n",
    "seeked = seek_null(df, print_columns=True)\n"
   ]
  },
  {
   "cell_type": "code",
   "execution_count": 44,
   "metadata": {},
   "outputs": [],
   "source": [
    "df = df.dropna()\n",
    "\n",
    "# Convertir colkumnas str a numeric\n",
    "from wolta.data_tools import make_numerics\n",
    "\n",
    "types = col_types(df)\n",
    "loc = 0\n",
    "\n",
    "for col in df.columns:\n",
    "    if types[loc] == 'str':\n",
    "        df[col] = make_numerics(df[col])\n",
    "    \n",
    "    loc += 1\n"
   ]
  },
  {
   "cell_type": "markdown",
   "metadata": {},
   "source": [
    "# Data Analysis"
   ]
  },
  {
   "cell_type": "code",
   "execution_count": 45,
   "metadata": {},
   "outputs": [
    {
     "data": {
      "text/html": [
       "<div>\n",
       "<style scoped>\n",
       "    .dataframe tbody tr th:only-of-type {\n",
       "        vertical-align: middle;\n",
       "    }\n",
       "\n",
       "    .dataframe tbody tr th {\n",
       "        vertical-align: top;\n",
       "    }\n",
       "\n",
       "    .dataframe thead th {\n",
       "        text-align: right;\n",
       "    }\n",
       "</style>\n",
       "<table border=\"1\" class=\"dataframe\">\n",
       "  <thead>\n",
       "    <tr style=\"text-align: right;\">\n",
       "      <th></th>\n",
       "      <th>AREA</th>\n",
       "      <th>Rpt Dist No</th>\n",
       "      <th>Part 1-2</th>\n",
       "      <th>Crm Cd</th>\n",
       "      <th>Vict Age</th>\n",
       "      <th>Premis Cd</th>\n",
       "      <th>Status</th>\n",
       "      <th>Status Desc</th>\n",
       "      <th>Crm Cd 1</th>\n",
       "      <th>LAT</th>\n",
       "      <th>LON</th>\n",
       "    </tr>\n",
       "  </thead>\n",
       "  <tbody>\n",
       "    <tr>\n",
       "      <th>count</th>\n",
       "      <td>982613.000000</td>\n",
       "      <td>982613.000000</td>\n",
       "      <td>982613.000000</td>\n",
       "      <td>982613.000000</td>\n",
       "      <td>982613.000000</td>\n",
       "      <td>982613.000000</td>\n",
       "      <td>982613.000000</td>\n",
       "      <td>982613.000000</td>\n",
       "      <td>982613.000000</td>\n",
       "      <td>982613.000000</td>\n",
       "      <td>982613.000000</td>\n",
       "    </tr>\n",
       "    <tr>\n",
       "      <th>mean</th>\n",
       "      <td>10.700342</td>\n",
       "      <td>451.470409</td>\n",
       "      <td>1.404255</td>\n",
       "      <td>500.822039</td>\n",
       "      <td>29.080269</td>\n",
       "      <td>306.132412</td>\n",
       "      <td>1.034858</td>\n",
       "      <td>1.034858</td>\n",
       "      <td>500.578501</td>\n",
       "      <td>33.995722</td>\n",
       "      <td>-118.082219</td>\n",
       "    </tr>\n",
       "    <tr>\n",
       "      <th>std</th>\n",
       "      <td>6.107792</td>\n",
       "      <td>299.788930</td>\n",
       "      <td>0.490747</td>\n",
       "      <td>206.212335</td>\n",
       "      <td>21.969968</td>\n",
       "      <td>219.053411</td>\n",
       "      <td>0.474065</td>\n",
       "      <td>0.474065</td>\n",
       "      <td>206.011200</td>\n",
       "      <td>1.636750</td>\n",
       "      <td>5.673012</td>\n",
       "    </tr>\n",
       "    <tr>\n",
       "      <th>min</th>\n",
       "      <td>1.000000</td>\n",
       "      <td>0.000000</td>\n",
       "      <td>1.000000</td>\n",
       "      <td>110.000000</td>\n",
       "      <td>-4.000000</td>\n",
       "      <td>101.000000</td>\n",
       "      <td>0.000000</td>\n",
       "      <td>0.000000</td>\n",
       "      <td>110.000000</td>\n",
       "      <td>0.000000</td>\n",
       "      <td>-118.667600</td>\n",
       "    </tr>\n",
       "    <tr>\n",
       "      <th>25%</th>\n",
       "      <td>5.000000</td>\n",
       "      <td>187.000000</td>\n",
       "      <td>1.000000</td>\n",
       "      <td>331.000000</td>\n",
       "      <td>0.000000</td>\n",
       "      <td>101.000000</td>\n",
       "      <td>1.000000</td>\n",
       "      <td>1.000000</td>\n",
       "      <td>331.000000</td>\n",
       "      <td>34.014600</td>\n",
       "      <td>-118.430500</td>\n",
       "    </tr>\n",
       "    <tr>\n",
       "      <th>50%</th>\n",
       "      <td>11.000000</td>\n",
       "      <td>415.000000</td>\n",
       "      <td>1.000000</td>\n",
       "      <td>442.000000</td>\n",
       "      <td>30.000000</td>\n",
       "      <td>203.000000</td>\n",
       "      <td>1.000000</td>\n",
       "      <td>1.000000</td>\n",
       "      <td>442.000000</td>\n",
       "      <td>34.058900</td>\n",
       "      <td>-118.322500</td>\n",
       "    </tr>\n",
       "    <tr>\n",
       "      <th>75%</th>\n",
       "      <td>16.000000</td>\n",
       "      <td>686.000000</td>\n",
       "      <td>2.000000</td>\n",
       "      <td>626.000000</td>\n",
       "      <td>44.000000</td>\n",
       "      <td>501.000000</td>\n",
       "      <td>1.000000</td>\n",
       "      <td>1.000000</td>\n",
       "      <td>626.000000</td>\n",
       "      <td>34.164900</td>\n",
       "      <td>-118.273900</td>\n",
       "    </tr>\n",
       "    <tr>\n",
       "      <th>max</th>\n",
       "      <td>21.000000</td>\n",
       "      <td>1208.000000</td>\n",
       "      <td>2.000000</td>\n",
       "      <td>956.000000</td>\n",
       "      <td>120.000000</td>\n",
       "      <td>976.000000</td>\n",
       "      <td>5.000000</td>\n",
       "      <td>5.000000</td>\n",
       "      <td>956.000000</td>\n",
       "      <td>34.334300</td>\n",
       "      <td>0.000000</td>\n",
       "    </tr>\n",
       "  </tbody>\n",
       "</table>\n",
       "</div>"
      ],
      "text/plain": [
       "                AREA    Rpt Dist No       Part 1-2         Crm Cd  \\\n",
       "count  982613.000000  982613.000000  982613.000000  982613.000000   \n",
       "mean       10.700342     451.470409       1.404255     500.822039   \n",
       "std         6.107792     299.788930       0.490747     206.212335   \n",
       "min         1.000000       0.000000       1.000000     110.000000   \n",
       "25%         5.000000     187.000000       1.000000     331.000000   \n",
       "50%        11.000000     415.000000       1.000000     442.000000   \n",
       "75%        16.000000     686.000000       2.000000     626.000000   \n",
       "max        21.000000    1208.000000       2.000000     956.000000   \n",
       "\n",
       "            Vict Age      Premis Cd         Status    Status Desc  \\\n",
       "count  982613.000000  982613.000000  982613.000000  982613.000000   \n",
       "mean       29.080269     306.132412       1.034858       1.034858   \n",
       "std        21.969968     219.053411       0.474065       0.474065   \n",
       "min        -4.000000     101.000000       0.000000       0.000000   \n",
       "25%         0.000000     101.000000       1.000000       1.000000   \n",
       "50%        30.000000     203.000000       1.000000       1.000000   \n",
       "75%        44.000000     501.000000       1.000000       1.000000   \n",
       "max       120.000000     976.000000       5.000000       5.000000   \n",
       "\n",
       "            Crm Cd 1            LAT            LON  \n",
       "count  982613.000000  982613.000000  982613.000000  \n",
       "mean      500.578501      33.995722    -118.082219  \n",
       "std       206.011200       1.636750       5.673012  \n",
       "min       110.000000       0.000000    -118.667600  \n",
       "25%       331.000000      34.014600    -118.430500  \n",
       "50%       442.000000      34.058900    -118.322500  \n",
       "75%       626.000000      34.164900    -118.273900  \n",
       "max       956.000000      34.334300       0.000000  "
      ]
     },
     "execution_count": 45,
     "metadata": {},
     "output_type": "execute_result"
    }
   ],
   "source": [
    "df.describe()"
   ]
  },
  {
   "cell_type": "code",
   "execution_count": 46,
   "metadata": {},
   "outputs": [
    {
     "data": {
      "text/plain": [
       "<Axes: ylabel='count'>"
      ]
     },
     "execution_count": 46,
     "metadata": {},
     "output_type": "execute_result"
    },
    {
     "data": {
      "image/png": "[encoded data removed]",
      "text/plain": [
       "<Figure size 640x480 with 1 Axes>"
      ]
     },
     "metadata": {},
     "output_type": "display_data"
    }
   ],
   "source": [
    "# Distribucion de mi variable independiente\n",
    "df['Part 1-2'].value_counts().plot(kind='pie')\n"
   ]
  },
  {
   "cell_type": "markdown",
   "metadata": {},
   "source": [
    "# Data Preparation"
   ]
  },
  {
   "cell_type": "code",
   "execution_count": 47,
   "metadata": {},
   "outputs": [
    {
     "data": {
      "text/plain": [
       "(982613, 11)"
      ]
     },
     "execution_count": 47,
     "metadata": {},
     "output_type": "execute_result"
    }
   ],
   "source": [
    "df.shape"
   ]
  },
  {
   "cell_type": "code",
   "execution_count": 48,
   "metadata": {},
   "outputs": [],
   "source": [
    "from sklearn.model_selection import train_test_split\n",
    "\n",
    "df = df.sample(frac=0.4, random_state=42) # se toma un 40 % de los registro originales para reducir el tiempo de computo para el ejercicio\n",
    "features = df.drop(columns=['Part 1-2'])  # Variables independientes\n",
    "target = df['Part 1-2']  # Variable dependiente\n",
    "\n",
    "# Dividir el dataset en conjunto de entrenamiento y prueba\n",
    "X_train, X_test, y_train, y_test = train_test_split(features, target, test_size=0.3, random_state=42)\n"
   ]
  },
  {
   "cell_type": "code",
   "execution_count": 49,
   "metadata": {},
   "outputs": [
    {
     "name": "stdout",
     "output_type": "stream",
     "text": [
      "Distribución de clases en y_train:\n",
      "Part 1-2\n",
      "1    163696\n",
      "2    111435\n",
      "Name: count, dtype: int64\n",
      "\n",
      "Distribución de clases en y_test:\n",
      "Part 1-2\n",
      "1    70245\n",
      "2    47669\n",
      "Name: count, dtype: int64\n"
     ]
    }
   ],
   "source": [
    "train_counts = y_train.value_counts()\n",
    "print(\"Distribución de clases en y_train:\")\n",
    "print(train_counts)\n",
    "\n",
    "# Contar valores únicos en y_test\n",
    "test_counts = y_test.value_counts()\n",
    "print(\"\\nDistribución de clases en y_test:\")\n",
    "print(test_counts)"
   ]
  },
  {
   "cell_type": "markdown",
   "metadata": {},
   "source": [
    "# Modelos"
   ]
  },
  {
   "cell_type": "markdown",
   "metadata": {},
   "source": [
    "## Modelo Random Forest"
   ]
  },
  {
   "cell_type": "code",
   "execution_count": 52,
   "metadata": {},
   "outputs": [
    {
     "name": "stdout",
     "output_type": "stream",
     "text": [
      "Fitting 3 folds for each of 6 candidates, totalling 18 fits\n",
      "[CV] END ......................max_depth=10, n_estimators=50; total time=   6.7s\n",
      "[CV] END ......................max_depth=10, n_estimators=50; total time=   6.7s\n",
      "[CV] END ......................max_depth=20, n_estimators=50; total time=   6.7s\n",
      "[CV] END ......................max_depth=10, n_estimators=50; total time=   6.8s\n",
      "[CV] END ......................max_depth=20, n_estimators=50; total time=   6.9s\n",
      "[CV] END .....................max_depth=10, n_estimators=100; total time=  13.4s\n",
      "[CV] END .....................max_depth=10, n_estimators=100; total time=  13.4s\n",
      "[CV] END .....................max_depth=10, n_estimators=100; total time=  13.6s\n",
      "[CV] END ......................max_depth=20, n_estimators=50; total time=   6.9s\n",
      "[CV] END .....................max_depth=20, n_estimators=100; total time=  12.5s\n",
      "[CV] END .....................max_depth=20, n_estimators=100; total time=  12.7s\n",
      "[CV] END .....................max_depth=20, n_estimators=100; total time=  12.7s\n",
      "[CV] END .....................max_depth=10, n_estimators=200; total time=  23.1s\n",
      "[CV] END .....................max_depth=10, n_estimators=200; total time=  23.9s\n",
      "[CV] END .....................max_depth=10, n_estimators=200; total time=  23.9s\n",
      "[CV] END .....................max_depth=20, n_estimators=200; total time=  21.4s\n",
      "[CV] END .....................max_depth=20, n_estimators=200; total time=  18.6s\n",
      "[CV] END .....................max_depth=20, n_estimators=200; total time=  18.9s\n"
     ]
    },
    {
     "name": "stderr",
     "output_type": "stream",
     "text": [
      "2024/11/05 19:35:41 WARNING mlflow.models.model: Model logged without a signature and input example. Please set `input_example` parameter when logging the model to auto infer the model signature.\n",
      "2024/11/05 19:35:42 INFO mlflow.tracking._tracking_service.client: 🏃 View run Random Forest_20241105_193454 at: http://localhost:5000/#/experiments/463157336838826563/runs/64cea4c0e4e74f06b08b1a6ba1aa3df6.\n",
      "2024/11/05 19:35:42 INFO mlflow.tracking._tracking_service.client: 🧪 View experiment at: http://localhost:5000/#/experiments/463157336838826563.\n"
     ]
    },
    {
     "name": "stdout",
     "output_type": "stream",
     "text": [
      "Best parameters: {'max_depth': 20, 'n_estimators': 100}\n",
      "F1 Score: 0.9999491152854773\n",
      "Accuracy: 0.999949115457028\n"
     ]
    }
   ],
   "source": [
    "import mlflow\n",
    "import mlflow.sklearn\n",
    "from sklearn.ensemble import RandomForestClassifier\n",
    "from sklearn.model_selection import GridSearchCV\n",
    "from sklearn.metrics import f1_score, accuracy_score\n",
    "import mlflow\n",
    "import datetime\n",
    "\n",
    "#registrar y versionar nuestros modelos usando MLflow\n",
    "mlflow.set_tracking_uri(\"http://localhost:5000\") \n",
    "\n",
    "# Definir los parámetros para el Grid Search\n",
    "param_grid = {\n",
    "    'n_estimators': [50, 100, 200],\n",
    "    'max_depth': [10, 20]\n",
    "}\n",
    "\n",
    "# Configuración de GridSearchCV\n",
    "grid_search = GridSearchCV(estimator=RandomForestClassifier(random_state=42), \n",
    "                           param_grid=param_grid, \n",
    "                           scoring='f1_weighted', \n",
    "                           cv=3, \n",
    "                           n_jobs=-1, \n",
    "                           verbose=2)\n",
    "\n",
    "\n",
    "# Asignar nombre al experimento en MLFLOW\n",
    "mlflow.set_experiment(\"Experimento Random Forest\")\n",
    "# Asignar nombre al runjob de MLFLOW\n",
    "run_name = f\"Random Forest_{datetime.datetime.now().strftime('%Y%m%d_%H%M%S')}\"\n",
    "\n",
    "# Ejecutar el Grid Search \n",
    "# Iniciar experimento en MLflow\n",
    "with mlflow.start_run(run_name=run_name):\n",
    "    grid_search.fit(X_train, y_train)\n",
    "\n",
    "    # Mejor modelo y predicciones\n",
    "    best_model = grid_search.best_estimator_\n",
    "    y_pred = best_model.predict(X_test)\n",
    "\n",
    "    # Calcular métricas\n",
    "    f1 = f1_score(y_test, y_pred, average='weighted')\n",
    "    accuracy = accuracy_score(y_test, y_pred)\n",
    "\n",
    "    # Registrar los parámetros y métricas en MLflow\n",
    "    mlflow.log_param(\"Best n_estimators\", grid_search.best_params_['n_estimators'])\n",
    "    mlflow.log_param(\"Best max_depth\", grid_search.best_params_['max_depth'])\n",
    "    mlflow.log_metric(\"f1_score\", f1)\n",
    "    mlflow.log_metric(\"accuracy\", accuracy)\n",
    "\n",
    "    # Guardar el modelo en MLflow\n",
    "    mlflow.sklearn.log_model(best_model, \"BestRandomForestModel\")\n",
    "\n",
    "print(\"Best parameters:\", grid_search.best_params_)\n",
    "print(\"F1 Score:\", f1)\n",
    "print(\"Accuracy:\", accuracy)\n"
   ]
  },
  {
   "cell_type": "markdown",
   "metadata": {},
   "source": [
    "## Modelo Regresion Logistica"
   ]
  },
  {
   "cell_type": "code",
   "execution_count": 53,
   "metadata": {},
   "outputs": [
    {
     "name": "stderr",
     "output_type": "stream",
     "text": [
      "2024/11/05 19:36:28 INFO mlflow.tracking.fluent: Experiment with name 'Experimento Logistic Regression' does not exist. Creating a new experiment.\n"
     ]
    },
    {
     "name": "stdout",
     "output_type": "stream",
     "text": [
      "Fitting 3 folds for each of 8 candidates, totalling 24 fits\n",
      "[CV] END ...............C=0.01, penalty=l2, solver=liblinear; total time=   0.7s\n",
      "[CV] END ...............C=0.01, penalty=l2, solver=liblinear; total time=   0.7s\n",
      "[CV] END ................C=0.1, penalty=l2, solver=liblinear; total time=   0.7s\n"
     ]
    },
    {
     "name": "stderr",
     "output_type": "stream",
     "text": [
      "/Users/U1037319/Library/Python/3.9/lib/python/site-packages/sklearn/linear_model/_logistic.py:469: ConvergenceWarning: lbfgs failed to converge (status=1):\n",
      "STOP: TOTAL NO. of ITERATIONS REACHED LIMIT.\n",
      "\n",
      "Increase the number of iterations (max_iter) or scale the data as shown in:\n",
      "    https://scikit-learn.org/stable/modules/preprocessing.html\n",
      "Please also refer to the documentation for alternative solver options:\n",
      "    https://scikit-learn.org/stable/modules/linear_model.html#logistic-regression\n",
      "  n_iter_i = _check_optimize_result(\n",
      "/Users/U1037319/Library/Python/3.9/lib/python/site-packages/sklearn/linear_model/_logistic.py:469: ConvergenceWarning: lbfgs failed to converge (status=1):\n",
      "STOP: TOTAL NO. of ITERATIONS REACHED LIMIT.\n",
      "\n",
      "Increase the number of iterations (max_iter) or scale the data as shown in:\n",
      "    https://scikit-learn.org/stable/modules/preprocessing.html\n",
      "Please also refer to the documentation for alternative solver options:\n",
      "    https://scikit-learn.org/stable/modules/linear_model.html#logistic-regression\n",
      "  n_iter_i = _check_optimize_result(\n",
      "/Users/U1037319/Library/Python/3.9/lib/python/site-packages/sklearn/linear_model/_logistic.py:469: ConvergenceWarning: lbfgs failed to converge (status=1):\n",
      "STOP: TOTAL NO. of ITERATIONS REACHED LIMIT.\n",
      "\n",
      "Increase the number of iterations (max_iter) or scale the data as shown in:\n",
      "    https://scikit-learn.org/stable/modules/preprocessing.html\n",
      "Please also refer to the documentation for alternative solver options:\n",
      "    https://scikit-learn.org/stable/modules/linear_model.html#logistic-regression\n",
      "  n_iter_i = _check_optimize_result(\n",
      "/Users/U1037319/Library/Python/3.9/lib/python/site-packages/sklearn/linear_model/_logistic.py:469: ConvergenceWarning: lbfgs failed to converge (status=1):\n",
      "STOP: TOTAL NO. of ITERATIONS REACHED LIMIT.\n",
      "\n",
      "Increase the number of iterations (max_iter) or scale the data as shown in:\n",
      "    https://scikit-learn.org/stable/modules/preprocessing.html\n",
      "Please also refer to the documentation for alternative solver options:\n",
      "    https://scikit-learn.org/stable/modules/linear_model.html#logistic-regression\n",
      "  n_iter_i = _check_optimize_result(\n",
      "/Users/U1037319/Library/Python/3.9/lib/python/site-packages/sklearn/linear_model/_logistic.py:469: ConvergenceWarning: lbfgs failed to converge (status=1):\n",
      "STOP: TOTAL NO. of ITERATIONS REACHED LIMIT.\n",
      "\n",
      "Increase the number of iterations (max_iter) or scale the data as shown in:\n",
      "    https://scikit-learn.org/stable/modules/preprocessing.html\n",
      "Please also refer to the documentation for alternative solver options:\n",
      "    https://scikit-learn.org/stable/modules/linear_model.html#logistic-regression\n",
      "  n_iter_i = _check_optimize_result(\n"
     ]
    },
    {
     "name": "stdout",
     "output_type": "stream",
     "text": [
      "[CV] END ...................C=0.01, penalty=l2, solver=lbfgs; total time=   0.9s\n",
      "[CV] END ...............C=0.01, penalty=l2, solver=liblinear; total time=   0.9s\n",
      "[CV] END ...................C=0.01, penalty=l2, solver=lbfgs; total time=   1.0s\n",
      "[CV] END ...................C=0.01, penalty=l2, solver=lbfgs; total time=   1.0s\n",
      "[CV] END ....................C=0.1, penalty=l2, solver=lbfgs; total time=   0.9s\n",
      "[CV] END ................C=0.1, penalty=l2, solver=liblinear; total time=   1.0s\n",
      "[CV] END ....................C=0.1, penalty=l2, solver=lbfgs; total time=   1.0s\n"
     ]
    },
    {
     "name": "stderr",
     "output_type": "stream",
     "text": [
      "/Users/U1037319/Library/Python/3.9/lib/python/site-packages/sklearn/linear_model/_logistic.py:469: ConvergenceWarning: lbfgs failed to converge (status=1):\n",
      "STOP: TOTAL NO. of ITERATIONS REACHED LIMIT.\n",
      "\n",
      "Increase the number of iterations (max_iter) or scale the data as shown in:\n",
      "    https://scikit-learn.org/stable/modules/preprocessing.html\n",
      "Please also refer to the documentation for alternative solver options:\n",
      "    https://scikit-learn.org/stable/modules/linear_model.html#logistic-regression\n",
      "  n_iter_i = _check_optimize_result(\n"
     ]
    },
    {
     "name": "stdout",
     "output_type": "stream",
     "text": [
      "[CV] END ....................C=0.1, penalty=l2, solver=lbfgs; total time=   1.0s\n",
      "[CV] END ................C=0.1, penalty=l2, solver=liblinear; total time=   0.7s\n",
      "[CV] END ..................C=1, penalty=l2, solver=liblinear; total time=   0.7s\n"
     ]
    },
    {
     "name": "stderr",
     "output_type": "stream",
     "text": [
      "/Users/U1037319/Library/Python/3.9/lib/python/site-packages/sklearn/linear_model/_logistic.py:469: ConvergenceWarning: lbfgs failed to converge (status=1):\n",
      "STOP: TOTAL NO. of ITERATIONS REACHED LIMIT.\n",
      "\n",
      "Increase the number of iterations (max_iter) or scale the data as shown in:\n",
      "    https://scikit-learn.org/stable/modules/preprocessing.html\n",
      "Please also refer to the documentation for alternative solver options:\n",
      "    https://scikit-learn.org/stable/modules/linear_model.html#logistic-regression\n",
      "  n_iter_i = _check_optimize_result(\n",
      "/Users/U1037319/Library/Python/3.9/lib/python/site-packages/sklearn/linear_model/_logistic.py:469: ConvergenceWarning: lbfgs failed to converge (status=1):\n",
      "STOP: TOTAL NO. of ITERATIONS REACHED LIMIT.\n",
      "\n",
      "Increase the number of iterations (max_iter) or scale the data as shown in:\n",
      "    https://scikit-learn.org/stable/modules/preprocessing.html\n",
      "Please also refer to the documentation for alternative solver options:\n",
      "    https://scikit-learn.org/stable/modules/linear_model.html#logistic-regression\n",
      "  n_iter_i = _check_optimize_result(\n",
      "/Users/U1037319/Library/Python/3.9/lib/python/site-packages/sklearn/linear_model/_logistic.py:469: ConvergenceWarning: lbfgs failed to converge (status=1):\n",
      "STOP: TOTAL NO. of ITERATIONS REACHED LIMIT.\n",
      "\n",
      "Increase the number of iterations (max_iter) or scale the data as shown in:\n",
      "    https://scikit-learn.org/stable/modules/preprocessing.html\n",
      "Please also refer to the documentation for alternative solver options:\n",
      "    https://scikit-learn.org/stable/modules/linear_model.html#logistic-regression\n",
      "  n_iter_i = _check_optimize_result(\n"
     ]
    },
    {
     "name": "stdout",
     "output_type": "stream",
     "text": [
      "[CV] END ......................C=1, penalty=l2, solver=lbfgs; total time=   0.9s\n",
      "[CV] END ......................C=1, penalty=l2, solver=lbfgs; total time=   0.8s\n",
      "[CV] END ..................C=1, penalty=l2, solver=liblinear; total time=   0.7s\n",
      "[CV] END ......................C=1, penalty=l2, solver=lbfgs; total time=   0.8s\n"
     ]
    },
    {
     "name": "stderr",
     "output_type": "stream",
     "text": [
      "/Users/U1037319/Library/Python/3.9/lib/python/site-packages/sklearn/linear_model/_logistic.py:469: ConvergenceWarning: lbfgs failed to converge (status=1):\n",
      "STOP: TOTAL NO. of ITERATIONS REACHED LIMIT.\n",
      "\n",
      "Increase the number of iterations (max_iter) or scale the data as shown in:\n",
      "    https://scikit-learn.org/stable/modules/preprocessing.html\n",
      "Please also refer to the documentation for alternative solver options:\n",
      "    https://scikit-learn.org/stable/modules/linear_model.html#logistic-regression\n",
      "  n_iter_i = _check_optimize_result(\n",
      "/Users/U1037319/Library/Python/3.9/lib/python/site-packages/sklearn/linear_model/_logistic.py:469: ConvergenceWarning: lbfgs failed to converge (status=1):\n",
      "STOP: TOTAL NO. of ITERATIONS REACHED LIMIT.\n",
      "\n",
      "Increase the number of iterations (max_iter) or scale the data as shown in:\n",
      "    https://scikit-learn.org/stable/modules/preprocessing.html\n",
      "Please also refer to the documentation for alternative solver options:\n",
      "    https://scikit-learn.org/stable/modules/linear_model.html#logistic-regression\n",
      "  n_iter_i = _check_optimize_result(\n",
      "/Users/U1037319/Library/Python/3.9/lib/python/site-packages/sklearn/linear_model/_logistic.py:469: ConvergenceWarning: lbfgs failed to converge (status=1):\n",
      "STOP: TOTAL NO. of ITERATIONS REACHED LIMIT.\n",
      "\n",
      "Increase the number of iterations (max_iter) or scale the data as shown in:\n",
      "    https://scikit-learn.org/stable/modules/preprocessing.html\n",
      "Please also refer to the documentation for alternative solver options:\n",
      "    https://scikit-learn.org/stable/modules/linear_model.html#logistic-regression\n",
      "  n_iter_i = _check_optimize_result(\n"
     ]
    },
    {
     "name": "stdout",
     "output_type": "stream",
     "text": [
      "[CV] END ..................C=1, penalty=l2, solver=liblinear; total time=   0.9s\n",
      "[CV] END .....................C=10, penalty=l2, solver=lbfgs; total time=   0.9s\n",
      "[CV] END .....................C=10, penalty=l2, solver=lbfgs; total time=   0.8s\n",
      "[CV] END .....................C=10, penalty=l2, solver=lbfgs; total time=   0.8s\n",
      "[CV] END .................C=10, penalty=l2, solver=liblinear; total time=   0.4s\n",
      "[CV] END .................C=10, penalty=l2, solver=liblinear; total time=   0.6s\n",
      "[CV] END .................C=10, penalty=l2, solver=liblinear; total time=   1.2s\n"
     ]
    },
    {
     "name": "stderr",
     "output_type": "stream",
     "text": [
      "2024/11/05 19:36:32 WARNING mlflow.models.model: Model logged without a signature and input example. Please set `input_example` parameter when logging the model to auto infer the model signature.\n",
      "2024/11/05 19:36:32 INFO mlflow.tracking._tracking_service.client: 🏃 View run Logistic Regression_20241105_193628 at: http://localhost:5000/#/experiments/644707845448742997/runs/87369a1061964be0a4f12730628e1838.\n",
      "2024/11/05 19:36:32 INFO mlflow.tracking._tracking_service.client: 🧪 View experiment at: http://localhost:5000/#/experiments/644707845448742997.\n"
     ]
    },
    {
     "name": "stdout",
     "output_type": "stream",
     "text": [
      "Best parameters: {'C': 1, 'penalty': 'l2', 'solver': 'liblinear'}\n",
      "F1 Score: 0.8906986046724162\n",
      "Accuracy: 0.8914039045405974\n"
     ]
    }
   ],
   "source": [
    "import mlflow\n",
    "import mlflow.sklearn\n",
    "from sklearn.linear_model import LogisticRegression\n",
    "from sklearn.model_selection import GridSearchCV\n",
    "from sklearn.metrics import f1_score, accuracy_score\n",
    "import datetime\n",
    "\n",
    "# Configurar el tracking URI de MLflow\n",
    "mlflow.set_tracking_uri(\"http://localhost:5000\")\n",
    "\n",
    "# Definir los parámetros para el Grid Search\n",
    "param_grid = {\n",
    "    'C': [0.01, 0.1, 1, 10],  # Valores de regularización\n",
    "    'penalty': ['l2'],        # L2 es la penalización común en problemas de clasificación\n",
    "    'solver': ['lbfgs', 'liblinear']  # Solvers compatibles con L2\n",
    "}\n",
    "\n",
    "# Configuración de GridSearchCV\n",
    "grid_search = GridSearchCV(estimator=LogisticRegression(random_state=42), \n",
    "                           param_grid=param_grid, \n",
    "                           scoring='f1_weighted', \n",
    "                           cv=3, \n",
    "                           n_jobs=-1, \n",
    "                           verbose=2)\n",
    "\n",
    "# Asignar nombre al experimento en MLflow\n",
    "mlflow.set_experiment(\"Experimento Logistic Regression\")\n",
    "run_name = f\"Logistic Regression_{datetime.datetime.now().strftime('%Y%m%d_%H%M%S')}\"\n",
    "\n",
    "# Iniciar experimento en MLflow\n",
    "with mlflow.start_run(run_name=run_name):\n",
    "    # Ajustar el modelo con Grid Search\n",
    "    grid_search.fit(X_train, y_train)\n",
    "\n",
    "    # Mejor modelo y predicciones\n",
    "    best_model = grid_search.best_estimator_\n",
    "    y_pred = best_model.predict(X_test)\n",
    "\n",
    "    # Calcular métricas\n",
    "    f1 = f1_score(y_test, y_pred, average='weighted')\n",
    "    accuracy = accuracy_score(y_test, y_pred)\n",
    "\n",
    "    # Registrar los parámetros y métricas en MLflow\n",
    "    mlflow.log_param(\"Best C\", grid_search.best_params_['C'])\n",
    "    mlflow.log_param(\"Best penalty\", grid_search.best_params_['penalty'])\n",
    "    mlflow.log_param(\"Best solver\", grid_search.best_params_['solver'])\n",
    "    mlflow.log_metric(\"f1_score\", f1)\n",
    "    mlflow.log_metric(\"accuracy\", accuracy)\n",
    "\n",
    "    # Guardar el modelo en MLflow\n",
    "    mlflow.sklearn.log_model(best_model, \"BestLogisticRegressionModel\")\n",
    "\n",
    "print(\"Best parameters:\", grid_search.best_params_)\n",
    "print(\"F1 Score:\", f1)\n",
    "print(\"Accuracy:\", accuracy)\n"
   ]
  },
  {
   "cell_type": "markdown",
   "metadata": {},
   "source": [
    "## Modelo xGBOOST"
   ]
  },
  {
   "cell_type": "code",
   "execution_count": 59,
   "metadata": {},
   "outputs": [],
   "source": [
    "#!pip install xgboost\n",
    "# dependencia con libreria libomp --> brew install libomp (para Mac)\n"
   ]
  },
  {
   "cell_type": "code",
   "execution_count": 67,
   "metadata": {},
   "outputs": [
    {
     "name": "stdout",
     "output_type": "stream",
     "text": [
      "Fitting 3 folds for each of 27 candidates, totalling 81 fits\n"
     ]
    },
    {
     "name": "stderr",
     "output_type": "stream",
     "text": [
      "/Users/U1037319/Library/Python/3.9/lib/python/site-packages/xgboost/core.py:158: UserWarning: [19:51:24] WARNING: /Users/runner/work/xgboost/xgboost/src/learner.cc:740: \n",
      "Parameters: { \"use_label_encoder\" } are not used.\n",
      "\n",
      "  warnings.warn(smsg, UserWarning)\n",
      "/Users/U1037319/Library/Python/3.9/lib/python/site-packages/xgboost/core.py:158: UserWarning: [19:51:24] WARNING: /Users/runner/work/xgboost/xgboost/src/learner.cc:740: \n",
      "Parameters: { \"use_label_encoder\" } are not used.\n",
      "\n",
      "  warnings.warn(smsg, UserWarning)\n",
      "/Users/U1037319/Library/Python/3.9/lib/python/site-packages/xgboost/core.py:158: UserWarning: [19:51:24] WARNING: /Users/runner/work/xgboost/xgboost/src/learner.cc:740: \n",
      "Parameters: { \"use_label_encoder\" } are not used.\n",
      "\n",
      "  warnings.warn(smsg, UserWarning)\n",
      "/Users/U1037319/Library/Python/3.9/lib/python/site-packages/xgboost/core.py:158: UserWarning: [19:51:24] WARNING: /Users/runner/work/xgboost/xgboost/src/learner.cc:740: \n",
      "Parameters: { \"use_label_encoder\" } are not used.\n",
      "\n",
      "  warnings.warn(smsg, UserWarning)\n",
      "/Users/U1037319/Library/Python/3.9/lib/python/site-packages/xgboost/core.py:158: UserWarning: [19:51:24] WARNING: /Users/runner/work/xgboost/xgboost/src/learner.cc:740: \n",
      "Parameters: { \"use_label_encoder\" } are not used.\n",
      "\n",
      "  warnings.warn(smsg, UserWarning)\n",
      "/Users/U1037319/Library/Python/3.9/lib/python/site-packages/xgboost/core.py:158: UserWarning: [19:51:24] WARNING: /Users/runner/work/xgboost/xgboost/src/learner.cc:740: \n",
      "Parameters: { \"use_label_encoder\" } are not used.\n",
      "\n",
      "  warnings.warn(smsg, UserWarning)\n",
      "/Users/U1037319/Library/Python/3.9/lib/python/site-packages/xgboost/core.py:158: UserWarning: [19:51:24] WARNING: /Users/runner/work/xgboost/xgboost/src/learner.cc:740: \n",
      "Parameters: { \"use_label_encoder\" } are not used.\n",
      "\n",
      "  warnings.warn(smsg, UserWarning)\n",
      "/Users/U1037319/Library/Python/3.9/lib/python/site-packages/xgboost/core.py:158: UserWarning: [19:51:24] WARNING: /Users/runner/work/xgboost/xgboost/src/learner.cc:740: \n",
      "Parameters: { \"use_label_encoder\" } are not used.\n",
      "\n",
      "  warnings.warn(smsg, UserWarning)\n",
      "/Users/U1037319/Library/Python/3.9/lib/python/site-packages/xgboost/core.py:158: UserWarning: [19:51:24] WARNING: /Users/runner/work/xgboost/xgboost/src/learner.cc:740: \n",
      "Parameters: { \"use_label_encoder\" } are not used.\n",
      "\n",
      "  warnings.warn(smsg, UserWarning)\n",
      "/Users/U1037319/Library/Python/3.9/lib/python/site-packages/xgboost/core.py:158: UserWarning: [19:51:24] WARNING: /Users/runner/work/xgboost/xgboost/src/learner.cc:740: \n",
      "Parameters: { \"use_label_encoder\" } are not used.\n",
      "\n",
      "  warnings.warn(smsg, UserWarning)\n",
      "/Users/U1037319/Library/Python/3.9/lib/python/site-packages/xgboost/core.py:158: UserWarning: [19:51:24] WARNING: /Users/runner/work/xgboost/xgboost/src/learner.cc:740: \n",
      "Parameters: { \"use_label_encoder\" } are not used.\n",
      "\n",
      "  warnings.warn(smsg, UserWarning)\n"
     ]
    },
    {
     "name": "stdout",
     "output_type": "stream",
     "text": [
      "[CV] END ...learning_rate=0.01, max_depth=3, n_estimators=50; total time=   0.5s\n",
      "[CV] END ...learning_rate=0.01, max_depth=3, n_estimators=50; total time=   0.6s\n",
      "[CV] END ...learning_rate=0.01, max_depth=3, n_estimators=50; total time=   0.7s\n"
     ]
    },
    {
     "name": "stderr",
     "output_type": "stream",
     "text": [
      "/Users/U1037319/Library/Python/3.9/lib/python/site-packages/xgboost/core.py:158: UserWarning: [19:51:24] WARNING: /Users/runner/work/xgboost/xgboost/src/learner.cc:740: \n",
      "Parameters: { \"use_label_encoder\" } are not used.\n",
      "\n",
      "  warnings.warn(smsg, UserWarning)\n",
      "/Users/U1037319/Library/Python/3.9/lib/python/site-packages/xgboost/core.py:158: UserWarning: [19:51:24] WARNING: /Users/runner/work/xgboost/xgboost/src/learner.cc:740: \n",
      "Parameters: { \"use_label_encoder\" } are not used.\n",
      "\n",
      "  warnings.warn(smsg, UserWarning)\n",
      "/Users/U1037319/Library/Python/3.9/lib/python/site-packages/xgboost/core.py:158: UserWarning: [19:51:24] WARNING: /Users/runner/work/xgboost/xgboost/src/learner.cc:740: \n",
      "Parameters: { \"use_label_encoder\" } are not used.\n",
      "\n",
      "  warnings.warn(smsg, UserWarning)\n"
     ]
    },
    {
     "name": "stdout",
     "output_type": "stream",
     "text": [
      "[CV] END ...learning_rate=0.01, max_depth=5, n_estimators=50; total time=   0.8s\n",
      "[CV] END ...learning_rate=0.01, max_depth=5, n_estimators=50; total time=   0.8s\n",
      "[CV] END ..learning_rate=0.01, max_depth=3, n_estimators=100; total time=   0.9s\n",
      "[CV] END ..learning_rate=0.01, max_depth=3, n_estimators=100; total time=   0.9s\n",
      "[CV] END ..learning_rate=0.01, max_depth=3, n_estimators=100; total time=   0.9s\n"
     ]
    },
    {
     "name": "stderr",
     "output_type": "stream",
     "text": [
      "/Users/U1037319/Library/Python/3.9/lib/python/site-packages/xgboost/core.py:158: UserWarning: [19:51:25] WARNING: /Users/runner/work/xgboost/xgboost/src/learner.cc:740: \n",
      "Parameters: { \"use_label_encoder\" } are not used.\n",
      "\n",
      "  warnings.warn(smsg, UserWarning)\n",
      "/Users/U1037319/Library/Python/3.9/lib/python/site-packages/xgboost/core.py:158: UserWarning: [19:51:25] WARNING: /Users/runner/work/xgboost/xgboost/src/learner.cc:740: \n",
      "Parameters: { \"use_label_encoder\" } are not used.\n",
      "\n",
      "  warnings.warn(smsg, UserWarning)\n",
      "/Users/U1037319/Library/Python/3.9/lib/python/site-packages/xgboost/core.py:158: UserWarning: [19:51:25] WARNING: /Users/runner/work/xgboost/xgboost/src/learner.cc:740: \n",
      "Parameters: { \"use_label_encoder\" } are not used.\n",
      "\n",
      "  warnings.warn(smsg, UserWarning)\n",
      "/Users/U1037319/Library/Python/3.9/lib/python/site-packages/xgboost/core.py:158: UserWarning: [19:51:25] WARNING: /Users/runner/work/xgboost/xgboost/src/learner.cc:740: \n",
      "Parameters: { \"use_label_encoder\" } are not used.\n",
      "\n",
      "  warnings.warn(smsg, UserWarning)\n",
      "/Users/U1037319/Library/Python/3.9/lib/python/site-packages/xgboost/core.py:158: UserWarning: [19:51:25] WARNING: /Users/runner/work/xgboost/xgboost/src/learner.cc:740: \n",
      "Parameters: { \"use_label_encoder\" } are not used.\n",
      "\n",
      "  warnings.warn(smsg, UserWarning)\n"
     ]
    },
    {
     "name": "stdout",
     "output_type": "stream",
     "text": [
      "[CV] END ...learning_rate=0.01, max_depth=5, n_estimators=50; total time=   0.7s\n"
     ]
    },
    {
     "name": "stderr",
     "output_type": "stream",
     "text": [
      "/Users/U1037319/Library/Python/3.9/lib/python/site-packages/xgboost/core.py:158: UserWarning: [19:51:25] WARNING: /Users/runner/work/xgboost/xgboost/src/learner.cc:740: \n",
      "Parameters: { \"use_label_encoder\" } are not used.\n",
      "\n",
      "  warnings.warn(smsg, UserWarning)\n"
     ]
    },
    {
     "name": "stdout",
     "output_type": "stream",
     "text": [
      "[CV] END ..learning_rate=0.01, max_depth=3, n_estimators=200; total time=   1.6s\n",
      "[CV] END ..learning_rate=0.01, max_depth=3, n_estimators=200; total time=   1.6s\n",
      "[CV] END ..learning_rate=0.01, max_depth=3, n_estimators=200; total time=   1.6s\n",
      "[CV] END ...learning_rate=0.01, max_depth=7, n_estimators=50; total time=   0.7s\n",
      "[CV] END ..learning_rate=0.01, max_depth=5, n_estimators=100; total time=   1.2s\n",
      "[CV] END ..learning_rate=0.01, max_depth=5, n_estimators=100; total time=   1.2s\n"
     ]
    },
    {
     "name": "stderr",
     "output_type": "stream",
     "text": [
      "/Users/U1037319/Library/Python/3.9/lib/python/site-packages/xgboost/core.py:158: UserWarning: [19:51:26] WARNING: /Users/runner/work/xgboost/xgboost/src/learner.cc:740: \n",
      "Parameters: { \"use_label_encoder\" } are not used.\n",
      "\n",
      "  warnings.warn(smsg, UserWarning)\n",
      "/Users/U1037319/Library/Python/3.9/lib/python/site-packages/xgboost/core.py:158: UserWarning: [19:51:26] WARNING: /Users/runner/work/xgboost/xgboost/src/learner.cc:740: \n",
      "Parameters: { \"use_label_encoder\" } are not used.\n",
      "\n",
      "  warnings.warn(smsg, UserWarning)\n",
      "/Users/U1037319/Library/Python/3.9/lib/python/site-packages/xgboost/core.py:158: UserWarning: [19:51:26] WARNING: /Users/runner/work/xgboost/xgboost/src/learner.cc:740: \n",
      "Parameters: { \"use_label_encoder\" } are not used.\n",
      "\n",
      "  warnings.warn(smsg, UserWarning)\n",
      "/Users/U1037319/Library/Python/3.9/lib/python/site-packages/xgboost/core.py:158: UserWarning: [19:51:26] WARNING: /Users/runner/work/xgboost/xgboost/src/learner.cc:740: \n",
      "Parameters: { \"use_label_encoder\" } are not used.\n",
      "\n",
      "  warnings.warn(smsg, UserWarning)\n",
      "/Users/U1037319/Library/Python/3.9/lib/python/site-packages/xgboost/core.py:158: UserWarning: [19:51:26] WARNING: /Users/runner/work/xgboost/xgboost/src/learner.cc:740: \n",
      "Parameters: { \"use_label_encoder\" } are not used.\n",
      "\n",
      "  warnings.warn(smsg, UserWarning)\n",
      "/Users/U1037319/Library/Python/3.9/lib/python/site-packages/xgboost/core.py:158: UserWarning: [19:51:26] WARNING: /Users/runner/work/xgboost/xgboost/src/learner.cc:740: \n",
      "Parameters: { \"use_label_encoder\" } are not used.\n",
      "\n",
      "  warnings.warn(smsg, UserWarning)\n"
     ]
    },
    {
     "name": "stdout",
     "output_type": "stream",
     "text": [
      "[CV] END ...learning_rate=0.01, max_depth=7, n_estimators=50; total time=   0.7s\n",
      "[CV] END ..learning_rate=0.01, max_depth=5, n_estimators=100; total time=   1.1s\n"
     ]
    },
    {
     "name": "stderr",
     "output_type": "stream",
     "text": [
      "/Users/U1037319/Library/Python/3.9/lib/python/site-packages/xgboost/core.py:158: UserWarning: [19:51:26] WARNING: /Users/runner/work/xgboost/xgboost/src/learner.cc:740: \n",
      "Parameters: { \"use_label_encoder\" } are not used.\n",
      "\n",
      "  warnings.warn(smsg, UserWarning)\n",
      "/Users/U1037319/Library/Python/3.9/lib/python/site-packages/xgboost/core.py:158: UserWarning: [19:51:26] WARNING: /Users/runner/work/xgboost/xgboost/src/learner.cc:740: \n",
      "Parameters: { \"use_label_encoder\" } are not used.\n",
      "\n",
      "  warnings.warn(smsg, UserWarning)\n"
     ]
    },
    {
     "name": "stdout",
     "output_type": "stream",
     "text": [
      "[CV] END ...learning_rate=0.01, max_depth=7, n_estimators=50; total time=   0.6s\n"
     ]
    },
    {
     "name": "stderr",
     "output_type": "stream",
     "text": [
      "/Users/U1037319/Library/Python/3.9/lib/python/site-packages/xgboost/core.py:158: UserWarning: [19:51:26] WARNING: /Users/runner/work/xgboost/xgboost/src/learner.cc:740: \n",
      "Parameters: { \"use_label_encoder\" } are not used.\n",
      "\n",
      "  warnings.warn(smsg, UserWarning)\n"
     ]
    },
    {
     "name": "stdout",
     "output_type": "stream",
     "text": [
      "[CV] END ....learning_rate=0.1, max_depth=3, n_estimators=50; total time=   0.6s\n",
      "[CV] END ..learning_rate=0.01, max_depth=7, n_estimators=100; total time=   1.1s\n",
      "[CV] END ..learning_rate=0.01, max_depth=5, n_estimators=200; total time=   1.9s\n"
     ]
    },
    {
     "name": "stderr",
     "output_type": "stream",
     "text": [
      "/Users/U1037319/Library/Python/3.9/lib/python/site-packages/xgboost/core.py:158: UserWarning: [19:51:27] WARNING: /Users/runner/work/xgboost/xgboost/src/learner.cc:740: \n",
      "Parameters: { \"use_label_encoder\" } are not used.\n",
      "\n",
      "  warnings.warn(smsg, UserWarning)\n",
      "/Users/U1037319/Library/Python/3.9/lib/python/site-packages/xgboost/core.py:158: UserWarning: [19:51:27] WARNING: /Users/runner/work/xgboost/xgboost/src/learner.cc:740: \n",
      "Parameters: { \"use_label_encoder\" } are not used.\n",
      "\n",
      "  warnings.warn(smsg, UserWarning)\n",
      "/Users/U1037319/Library/Python/3.9/lib/python/site-packages/xgboost/core.py:158: UserWarning: [19:51:27] WARNING: /Users/runner/work/xgboost/xgboost/src/learner.cc:740: \n",
      "Parameters: { \"use_label_encoder\" } are not used.\n",
      "\n",
      "  warnings.warn(smsg, UserWarning)\n"
     ]
    },
    {
     "name": "stdout",
     "output_type": "stream",
     "text": [
      "[CV] END ..learning_rate=0.01, max_depth=5, n_estimators=200; total time=   2.0s\n",
      "[CV] END ....learning_rate=0.1, max_depth=3, n_estimators=50; total time=   0.5s\n",
      "[CV] END ..learning_rate=0.01, max_depth=5, n_estimators=200; total time=   2.0s\n",
      "[CV] END ..learning_rate=0.01, max_depth=7, n_estimators=100; total time=   1.2s\n"
     ]
    },
    {
     "name": "stderr",
     "output_type": "stream",
     "text": [
      "/Users/U1037319/Library/Python/3.9/lib/python/site-packages/xgboost/core.py:158: UserWarning: [19:51:27] WARNING: /Users/runner/work/xgboost/xgboost/src/learner.cc:740: \n",
      "Parameters: { \"use_label_encoder\" } are not used.\n",
      "\n",
      "  warnings.warn(smsg, UserWarning)\n",
      "/Users/U1037319/Library/Python/3.9/lib/python/site-packages/xgboost/core.py:158: UserWarning: [19:51:27] WARNING: /Users/runner/work/xgboost/xgboost/src/learner.cc:740: \n",
      "Parameters: { \"use_label_encoder\" } are not used.\n",
      "\n",
      "  warnings.warn(smsg, UserWarning)\n",
      "/Users/U1037319/Library/Python/3.9/lib/python/site-packages/xgboost/core.py:158: UserWarning: [19:51:27] WARNING: /Users/runner/work/xgboost/xgboost/src/learner.cc:740: \n",
      "Parameters: { \"use_label_encoder\" } are not used.\n",
      "\n",
      "  warnings.warn(smsg, UserWarning)\n",
      "/Users/U1037319/Library/Python/3.9/lib/python/site-packages/xgboost/core.py:158: UserWarning: [19:51:27] WARNING: /Users/runner/work/xgboost/xgboost/src/learner.cc:740: \n",
      "Parameters: { \"use_label_encoder\" } are not used.\n",
      "\n",
      "  warnings.warn(smsg, UserWarning)\n"
     ]
    },
    {
     "name": "stdout",
     "output_type": "stream",
     "text": [
      "[CV] END ..learning_rate=0.01, max_depth=7, n_estimators=100; total time=   1.3s\n",
      "[CV] END ....learning_rate=0.1, max_depth=3, n_estimators=50; total time=   0.5s\n"
     ]
    },
    {
     "name": "stderr",
     "output_type": "stream",
     "text": [
      "/Users/U1037319/Library/Python/3.9/lib/python/site-packages/xgboost/core.py:158: UserWarning: [19:51:27] WARNING: /Users/runner/work/xgboost/xgboost/src/learner.cc:740: \n",
      "Parameters: { \"use_label_encoder\" } are not used.\n",
      "\n",
      "  warnings.warn(smsg, UserWarning)\n",
      "/Users/U1037319/Library/Python/3.9/lib/python/site-packages/xgboost/core.py:158: UserWarning: [19:51:27] WARNING: /Users/runner/work/xgboost/xgboost/src/learner.cc:740: \n",
      "Parameters: { \"use_label_encoder\" } are not used.\n",
      "\n",
      "  warnings.warn(smsg, UserWarning)\n"
     ]
    },
    {
     "name": "stdout",
     "output_type": "stream",
     "text": [
      "[CV] END ...learning_rate=0.1, max_depth=3, n_estimators=100; total time=   0.8s\n",
      "[CV] END ...learning_rate=0.1, max_depth=3, n_estimators=100; total time=   0.8s\n",
      "[CV] END ...learning_rate=0.1, max_depth=3, n_estimators=100; total time=   0.8s\n",
      "[CV] END ....learning_rate=0.1, max_depth=5, n_estimators=50; total time=   0.6s\n",
      "[CV] END ....learning_rate=0.1, max_depth=5, n_estimators=50; total time=   0.7s\n"
     ]
    },
    {
     "name": "stderr",
     "output_type": "stream",
     "text": [
      "/Users/U1037319/Library/Python/3.9/lib/python/site-packages/xgboost/core.py:158: UserWarning: [19:51:28] WARNING: /Users/runner/work/xgboost/xgboost/src/learner.cc:740: \n",
      "Parameters: { \"use_label_encoder\" } are not used.\n",
      "\n",
      "  warnings.warn(smsg, UserWarning)\n",
      "/Users/U1037319/Library/Python/3.9/lib/python/site-packages/xgboost/core.py:158: UserWarning: [19:51:28] WARNING: /Users/runner/work/xgboost/xgboost/src/learner.cc:740: \n",
      "Parameters: { \"use_label_encoder\" } are not used.\n",
      "\n",
      "  warnings.warn(smsg, UserWarning)\n",
      "/Users/U1037319/Library/Python/3.9/lib/python/site-packages/xgboost/core.py:158: UserWarning: [19:51:28] WARNING: /Users/runner/work/xgboost/xgboost/src/learner.cc:740: \n",
      "Parameters: { \"use_label_encoder\" } are not used.\n",
      "\n",
      "  warnings.warn(smsg, UserWarning)\n",
      "/Users/U1037319/Library/Python/3.9/lib/python/site-packages/xgboost/core.py:158: UserWarning: [19:51:28] WARNING: /Users/runner/work/xgboost/xgboost/src/learner.cc:740: \n",
      "Parameters: { \"use_label_encoder\" } are not used.\n",
      "\n",
      "  warnings.warn(smsg, UserWarning)\n",
      "/Users/U1037319/Library/Python/3.9/lib/python/site-packages/xgboost/core.py:158: UserWarning: [19:51:28] WARNING: /Users/runner/work/xgboost/xgboost/src/learner.cc:740: \n",
      "Parameters: { \"use_label_encoder\" } are not used.\n",
      "\n",
      "  warnings.warn(smsg, UserWarning)\n"
     ]
    },
    {
     "name": "stdout",
     "output_type": "stream",
     "text": [
      "[CV] END ..learning_rate=0.01, max_depth=7, n_estimators=200; total time=   2.2s\n",
      "[CV] END ..learning_rate=0.01, max_depth=7, n_estimators=200; total time=   2.2s\n",
      "[CV] END ..learning_rate=0.01, max_depth=7, n_estimators=200; total time=   2.2s\n"
     ]
    },
    {
     "name": "stderr",
     "output_type": "stream",
     "text": [
      "/Users/U1037319/Library/Python/3.9/lib/python/site-packages/xgboost/core.py:158: UserWarning: [19:51:28] WARNING: /Users/runner/work/xgboost/xgboost/src/learner.cc:740: \n",
      "Parameters: { \"use_label_encoder\" } are not used.\n",
      "\n",
      "  warnings.warn(smsg, UserWarning)\n",
      "/Users/U1037319/Library/Python/3.9/lib/python/site-packages/xgboost/core.py:158: UserWarning: [19:51:28] WARNING: /Users/runner/work/xgboost/xgboost/src/learner.cc:740: \n",
      "Parameters: { \"use_label_encoder\" } are not used.\n",
      "\n",
      "  warnings.warn(smsg, UserWarning)\n",
      "/Users/U1037319/Library/Python/3.9/lib/python/site-packages/xgboost/core.py:158: UserWarning: [19:51:28] WARNING: /Users/runner/work/xgboost/xgboost/src/learner.cc:740: \n",
      "Parameters: { \"use_label_encoder\" } are not used.\n",
      "\n",
      "  warnings.warn(smsg, UserWarning)\n",
      "/Users/U1037319/Library/Python/3.9/lib/python/site-packages/xgboost/core.py:158: UserWarning: [19:51:28] WARNING: /Users/runner/work/xgboost/xgboost/src/learner.cc:740: \n",
      "Parameters: { \"use_label_encoder\" } are not used.\n",
      "\n",
      "  warnings.warn(smsg, UserWarning)\n"
     ]
    },
    {
     "name": "stdout",
     "output_type": "stream",
     "text": [
      "[CV] END ...learning_rate=0.1, max_depth=3, n_estimators=200; total time=   1.3s\n",
      "[CV] END ...learning_rate=0.1, max_depth=3, n_estimators=200; total time=   1.4s\n",
      "[CV] END ....learning_rate=0.1, max_depth=5, n_estimators=50; total time=   0.6s\n",
      "[CV] END ...learning_rate=0.1, max_depth=3, n_estimators=200; total time=   1.3s\n"
     ]
    },
    {
     "name": "stderr",
     "output_type": "stream",
     "text": [
      "/Users/U1037319/Library/Python/3.9/lib/python/site-packages/xgboost/core.py:158: UserWarning: [19:51:28] WARNING: /Users/runner/work/xgboost/xgboost/src/learner.cc:740: \n",
      "Parameters: { \"use_label_encoder\" } are not used.\n",
      "\n",
      "  warnings.warn(smsg, UserWarning)\n",
      "/Users/U1037319/Library/Python/3.9/lib/python/site-packages/xgboost/core.py:158: UserWarning: [19:51:28] WARNING: /Users/runner/work/xgboost/xgboost/src/learner.cc:740: \n",
      "Parameters: { \"use_label_encoder\" } are not used.\n",
      "\n",
      "  warnings.warn(smsg, UserWarning)\n",
      "/Users/U1037319/Library/Python/3.9/lib/python/site-packages/xgboost/core.py:158: UserWarning: [19:51:28] WARNING: /Users/runner/work/xgboost/xgboost/src/learner.cc:740: \n",
      "Parameters: { \"use_label_encoder\" } are not used.\n",
      "\n",
      "  warnings.warn(smsg, UserWarning)\n"
     ]
    },
    {
     "name": "stdout",
     "output_type": "stream",
     "text": [
      "[CV] END ...learning_rate=0.1, max_depth=5, n_estimators=100; total time=   1.0s\n",
      "[CV] END ...learning_rate=0.1, max_depth=5, n_estimators=100; total time=   1.1s\n",
      "[CV] END ....learning_rate=0.1, max_depth=7, n_estimators=50; total time=   0.8s\n"
     ]
    },
    {
     "name": "stderr",
     "output_type": "stream",
     "text": [
      "/Users/U1037319/Library/Python/3.9/lib/python/site-packages/xgboost/core.py:158: UserWarning: [19:51:29] WARNING: /Users/runner/work/xgboost/xgboost/src/learner.cc:740: \n",
      "Parameters: { \"use_label_encoder\" } are not used.\n",
      "\n",
      "  warnings.warn(smsg, UserWarning)\n",
      "/Users/U1037319/Library/Python/3.9/lib/python/site-packages/xgboost/core.py:158: UserWarning: [19:51:29] WARNING: /Users/runner/work/xgboost/xgboost/src/learner.cc:740: \n",
      "Parameters: { \"use_label_encoder\" } are not used.\n",
      "\n",
      "  warnings.warn(smsg, UserWarning)\n",
      "/Users/U1037319/Library/Python/3.9/lib/python/site-packages/xgboost/core.py:158: UserWarning: [19:51:29] WARNING: /Users/runner/work/xgboost/xgboost/src/learner.cc:740: \n",
      "Parameters: { \"use_label_encoder\" } are not used.\n",
      "\n",
      "  warnings.warn(smsg, UserWarning)\n"
     ]
    },
    {
     "name": "stdout",
     "output_type": "stream",
     "text": [
      "[CV] END ...learning_rate=0.1, max_depth=5, n_estimators=100; total time=   1.1s\n",
      "[CV] END ....learning_rate=0.1, max_depth=7, n_estimators=50; total time=   0.7s\n",
      "[CV] END ....learning_rate=0.1, max_depth=7, n_estimators=50; total time=   0.8s\n"
     ]
    },
    {
     "name": "stderr",
     "output_type": "stream",
     "text": [
      "/Users/U1037319/Library/Python/3.9/lib/python/site-packages/xgboost/core.py:158: UserWarning: [19:51:29] WARNING: /Users/runner/work/xgboost/xgboost/src/learner.cc:740: \n",
      "Parameters: { \"use_label_encoder\" } are not used.\n",
      "\n",
      "  warnings.warn(smsg, UserWarning)\n",
      "/Users/U1037319/Library/Python/3.9/lib/python/site-packages/xgboost/core.py:158: UserWarning: [19:51:29] WARNING: /Users/runner/work/xgboost/xgboost/src/learner.cc:740: \n",
      "Parameters: { \"use_label_encoder\" } are not used.\n",
      "\n",
      "  warnings.warn(smsg, UserWarning)\n",
      "/Users/U1037319/Library/Python/3.9/lib/python/site-packages/xgboost/core.py:158: UserWarning: [19:51:29] WARNING: /Users/runner/work/xgboost/xgboost/src/learner.cc:740: \n",
      "Parameters: { \"use_label_encoder\" } are not used.\n",
      "\n",
      "  warnings.warn(smsg, UserWarning)\n"
     ]
    },
    {
     "name": "stdout",
     "output_type": "stream",
     "text": [
      "[CV] END ....learning_rate=0.2, max_depth=3, n_estimators=50; total time=   0.5s\n",
      "[CV] END ...learning_rate=0.1, max_depth=7, n_estimators=100; total time=   1.2s\n",
      "[CV] END ....learning_rate=0.2, max_depth=3, n_estimators=50; total time=   0.5s\n",
      "[CV] END ...learning_rate=0.1, max_depth=7, n_estimators=100; total time=   1.2s\n",
      "[CV] END ...learning_rate=0.1, max_depth=5, n_estimators=200; total time=   1.8s\n"
     ]
    },
    {
     "name": "stderr",
     "output_type": "stream",
     "text": [
      "/Users/U1037319/Library/Python/3.9/lib/python/site-packages/xgboost/core.py:158: UserWarning: [19:51:29] WARNING: /Users/runner/work/xgboost/xgboost/src/learner.cc:740: \n",
      "Parameters: { \"use_label_encoder\" } are not used.\n",
      "\n",
      "  warnings.warn(smsg, UserWarning)\n",
      "/Users/U1037319/Library/Python/3.9/lib/python/site-packages/xgboost/core.py:158: UserWarning: [19:51:29] WARNING: /Users/runner/work/xgboost/xgboost/src/learner.cc:740: \n",
      "Parameters: { \"use_label_encoder\" } are not used.\n",
      "\n",
      "  warnings.warn(smsg, UserWarning)\n",
      "/Users/U1037319/Library/Python/3.9/lib/python/site-packages/xgboost/core.py:158: UserWarning: [19:51:29] WARNING: /Users/runner/work/xgboost/xgboost/src/learner.cc:740: \n",
      "Parameters: { \"use_label_encoder\" } are not used.\n",
      "\n",
      "  warnings.warn(smsg, UserWarning)\n",
      "/Users/U1037319/Library/Python/3.9/lib/python/site-packages/xgboost/core.py:158: UserWarning: [19:51:30] WARNING: /Users/runner/work/xgboost/xgboost/src/learner.cc:740: \n",
      "Parameters: { \"use_label_encoder\" } are not used.\n",
      "\n",
      "  warnings.warn(smsg, UserWarning)\n",
      "/Users/U1037319/Library/Python/3.9/lib/python/site-packages/xgboost/core.py:158: UserWarning: [19:51:30] WARNING: /Users/runner/work/xgboost/xgboost/src/learner.cc:740: \n",
      "Parameters: { \"use_label_encoder\" } are not used.\n",
      "\n",
      "  warnings.warn(smsg, UserWarning)\n"
     ]
    },
    {
     "name": "stdout",
     "output_type": "stream",
     "text": [
      "[CV] END ....learning_rate=0.2, max_depth=3, n_estimators=50; total time=   0.5s\n",
      "[CV] END ...learning_rate=0.1, max_depth=7, n_estimators=100; total time=   1.2s\n",
      "[CV] END ...learning_rate=0.1, max_depth=5, n_estimators=200; total time=   1.9s\n",
      "[CV] END ...learning_rate=0.1, max_depth=5, n_estimators=200; total time=   2.0s\n"
     ]
    },
    {
     "name": "stderr",
     "output_type": "stream",
     "text": [
      "/Users/U1037319/Library/Python/3.9/lib/python/site-packages/xgboost/core.py:158: UserWarning: [19:51:30] WARNING: /Users/runner/work/xgboost/xgboost/src/learner.cc:740: \n",
      "Parameters: { \"use_label_encoder\" } are not used.\n",
      "\n",
      "  warnings.warn(smsg, UserWarning)\n",
      "/Users/U1037319/Library/Python/3.9/lib/python/site-packages/xgboost/core.py:158: UserWarning: [19:51:30] WARNING: /Users/runner/work/xgboost/xgboost/src/learner.cc:740: \n",
      "Parameters: { \"use_label_encoder\" } are not used.\n",
      "\n",
      "  warnings.warn(smsg, UserWarning)\n",
      "/Users/U1037319/Library/Python/3.9/lib/python/site-packages/xgboost/core.py:158: UserWarning: [19:51:30] WARNING: /Users/runner/work/xgboost/xgboost/src/learner.cc:740: \n",
      "Parameters: { \"use_label_encoder\" } are not used.\n",
      "\n",
      "  warnings.warn(smsg, UserWarning)\n",
      "/Users/U1037319/Library/Python/3.9/lib/python/site-packages/xgboost/core.py:158: UserWarning: [19:51:30] WARNING: /Users/runner/work/xgboost/xgboost/src/learner.cc:740: \n",
      "Parameters: { \"use_label_encoder\" } are not used.\n",
      "\n",
      "  warnings.warn(smsg, UserWarning)\n"
     ]
    },
    {
     "name": "stdout",
     "output_type": "stream",
     "text": [
      "[CV] END ...learning_rate=0.2, max_depth=3, n_estimators=100; total time=   0.8s\n",
      "[CV] END ...learning_rate=0.2, max_depth=3, n_estimators=100; total time=   0.7s\n",
      "[CV] END ...learning_rate=0.2, max_depth=3, n_estimators=100; total time=   0.8s\n"
     ]
    },
    {
     "name": "stderr",
     "output_type": "stream",
     "text": [
      "/Users/U1037319/Library/Python/3.9/lib/python/site-packages/xgboost/core.py:158: UserWarning: [19:51:30] WARNING: /Users/runner/work/xgboost/xgboost/src/learner.cc:740: \n",
      "Parameters: { \"use_label_encoder\" } are not used.\n",
      "\n",
      "  warnings.warn(smsg, UserWarning)\n",
      "/Users/U1037319/Library/Python/3.9/lib/python/site-packages/xgboost/core.py:158: UserWarning: [19:51:30] WARNING: /Users/runner/work/xgboost/xgboost/src/learner.cc:740: \n",
      "Parameters: { \"use_label_encoder\" } are not used.\n",
      "\n",
      "  warnings.warn(smsg, UserWarning)\n",
      "/Users/U1037319/Library/Python/3.9/lib/python/site-packages/xgboost/core.py:158: UserWarning: [19:51:30] WARNING: /Users/runner/work/xgboost/xgboost/src/learner.cc:740: \n",
      "Parameters: { \"use_label_encoder\" } are not used.\n",
      "\n",
      "  warnings.warn(smsg, UserWarning)\n"
     ]
    },
    {
     "name": "stdout",
     "output_type": "stream",
     "text": [
      "[CV] END ....learning_rate=0.2, max_depth=5, n_estimators=50; total time=   0.6s\n",
      "[CV] END ....learning_rate=0.2, max_depth=5, n_estimators=50; total time=   0.7s\n"
     ]
    },
    {
     "name": "stderr",
     "output_type": "stream",
     "text": [
      "/Users/U1037319/Library/Python/3.9/lib/python/site-packages/xgboost/core.py:158: UserWarning: [19:51:31] WARNING: /Users/runner/work/xgboost/xgboost/src/learner.cc:740: \n",
      "Parameters: { \"use_label_encoder\" } are not used.\n",
      "\n",
      "  warnings.warn(smsg, UserWarning)\n",
      "/Users/U1037319/Library/Python/3.9/lib/python/site-packages/xgboost/core.py:158: UserWarning: [19:51:31] WARNING: /Users/runner/work/xgboost/xgboost/src/learner.cc:740: \n",
      "Parameters: { \"use_label_encoder\" } are not used.\n",
      "\n",
      "  warnings.warn(smsg, UserWarning)\n"
     ]
    },
    {
     "name": "stdout",
     "output_type": "stream",
     "text": [
      "[CV] END ...learning_rate=0.1, max_depth=7, n_estimators=200; total time=   2.0s\n",
      "[CV] END ....learning_rate=0.2, max_depth=5, n_estimators=50; total time=   0.6s\n",
      "[CV] END ...learning_rate=0.1, max_depth=7, n_estimators=200; total time=   2.1s\n",
      "[CV] END ...learning_rate=0.2, max_depth=3, n_estimators=200; total time=   1.3s\n",
      "[CV] END ...learning_rate=0.1, max_depth=7, n_estimators=200; total time=   2.0s\n"
     ]
    },
    {
     "name": "stderr",
     "output_type": "stream",
     "text": [
      "/Users/U1037319/Library/Python/3.9/lib/python/site-packages/xgboost/core.py:158: UserWarning: [19:51:31] WARNING: /Users/runner/work/xgboost/xgboost/src/learner.cc:740: \n",
      "Parameters: { \"use_label_encoder\" } are not used.\n",
      "\n",
      "  warnings.warn(smsg, UserWarning)\n",
      "/Users/U1037319/Library/Python/3.9/lib/python/site-packages/xgboost/core.py:158: UserWarning: [19:51:31] WARNING: /Users/runner/work/xgboost/xgboost/src/learner.cc:740: \n",
      "Parameters: { \"use_label_encoder\" } are not used.\n",
      "\n",
      "  warnings.warn(smsg, UserWarning)\n",
      "/Users/U1037319/Library/Python/3.9/lib/python/site-packages/xgboost/core.py:158: UserWarning: [19:51:31] WARNING: /Users/runner/work/xgboost/xgboost/src/learner.cc:740: \n",
      "Parameters: { \"use_label_encoder\" } are not used.\n",
      "\n",
      "  warnings.warn(smsg, UserWarning)\n",
      "/Users/U1037319/Library/Python/3.9/lib/python/site-packages/xgboost/core.py:158: UserWarning: [19:51:31] WARNING: /Users/runner/work/xgboost/xgboost/src/learner.cc:740: \n",
      "Parameters: { \"use_label_encoder\" } are not used.\n",
      "\n",
      "  warnings.warn(smsg, UserWarning)\n",
      "/Users/U1037319/Library/Python/3.9/lib/python/site-packages/xgboost/core.py:158: UserWarning: [19:51:31] WARNING: /Users/runner/work/xgboost/xgboost/src/learner.cc:740: \n",
      "Parameters: { \"use_label_encoder\" } are not used.\n",
      "\n",
      "  warnings.warn(smsg, UserWarning)\n"
     ]
    },
    {
     "name": "stdout",
     "output_type": "stream",
     "text": [
      "[CV] END ...learning_rate=0.2, max_depth=3, n_estimators=200; total time=   1.3s\n",
      "[CV] END ...learning_rate=0.2, max_depth=3, n_estimators=200; total time=   1.4s\n"
     ]
    },
    {
     "name": "stderr",
     "output_type": "stream",
     "text": [
      "/Users/U1037319/Library/Python/3.9/lib/python/site-packages/xgboost/core.py:158: UserWarning: [19:51:31] WARNING: /Users/runner/work/xgboost/xgboost/src/learner.cc:740: \n",
      "Parameters: { \"use_label_encoder\" } are not used.\n",
      "\n",
      "  warnings.warn(smsg, UserWarning)\n",
      "/Users/U1037319/Library/Python/3.9/lib/python/site-packages/xgboost/core.py:158: UserWarning: [19:51:31] WARNING: /Users/runner/work/xgboost/xgboost/src/learner.cc:740: \n",
      "Parameters: { \"use_label_encoder\" } are not used.\n",
      "\n",
      "  warnings.warn(smsg, UserWarning)\n"
     ]
    },
    {
     "name": "stdout",
     "output_type": "stream",
     "text": [
      "[CV] END ...learning_rate=0.2, max_depth=5, n_estimators=100; total time=   1.1s\n",
      "[CV] END ...learning_rate=0.2, max_depth=5, n_estimators=100; total time=   1.1s\n",
      "[CV] END ...learning_rate=0.2, max_depth=5, n_estimators=100; total time=   1.0s\n"
     ]
    },
    {
     "name": "stderr",
     "output_type": "stream",
     "text": [
      "/Users/U1037319/Library/Python/3.9/lib/python/site-packages/xgboost/core.py:158: UserWarning: [19:51:31] WARNING: /Users/runner/work/xgboost/xgboost/src/learner.cc:740: \n",
      "Parameters: { \"use_label_encoder\" } are not used.\n",
      "\n",
      "  warnings.warn(smsg, UserWarning)\n",
      "/Users/U1037319/Library/Python/3.9/lib/python/site-packages/xgboost/core.py:158: UserWarning: [19:51:31] WARNING: /Users/runner/work/xgboost/xgboost/src/learner.cc:740: \n",
      "Parameters: { \"use_label_encoder\" } are not used.\n",
      "\n",
      "  warnings.warn(smsg, UserWarning)\n",
      "/Users/U1037319/Library/Python/3.9/lib/python/site-packages/xgboost/core.py:158: UserWarning: [19:51:32] WARNING: /Users/runner/work/xgboost/xgboost/src/learner.cc:740: \n",
      "Parameters: { \"use_label_encoder\" } are not used.\n",
      "\n",
      "  warnings.warn(smsg, UserWarning)\n"
     ]
    },
    {
     "name": "stdout",
     "output_type": "stream",
     "text": [
      "[CV] END ....learning_rate=0.2, max_depth=7, n_estimators=50; total time=   0.7s\n",
      "[CV] END ....learning_rate=0.2, max_depth=7, n_estimators=50; total time=   0.8s\n",
      "[CV] END ....learning_rate=0.2, max_depth=7, n_estimators=50; total time=   0.8s\n"
     ]
    },
    {
     "name": "stderr",
     "output_type": "stream",
     "text": [
      "/Users/U1037319/Library/Python/3.9/lib/python/site-packages/xgboost/core.py:158: UserWarning: [19:51:32] WARNING: /Users/runner/work/xgboost/xgboost/src/learner.cc:740: \n",
      "Parameters: { \"use_label_encoder\" } are not used.\n",
      "\n",
      "  warnings.warn(smsg, UserWarning)\n"
     ]
    },
    {
     "name": "stdout",
     "output_type": "stream",
     "text": [
      "[CV] END ...learning_rate=0.2, max_depth=7, n_estimators=100; total time=   1.1s\n",
      "[CV] END ...learning_rate=0.2, max_depth=7, n_estimators=100; total time=   1.1s\n",
      "[CV] END ...learning_rate=0.2, max_depth=5, n_estimators=200; total time=   1.8s\n",
      "[CV] END ...learning_rate=0.2, max_depth=5, n_estimators=200; total time=   1.7s\n",
      "[CV] END ...learning_rate=0.2, max_depth=7, n_estimators=100; total time=   1.1s\n",
      "[CV] END ...learning_rate=0.2, max_depth=5, n_estimators=200; total time=   1.8s\n",
      "[CV] END ...learning_rate=0.2, max_depth=7, n_estimators=200; total time=   1.4s\n",
      "[CV] END ...learning_rate=0.2, max_depth=7, n_estimators=200; total time=   1.5s\n",
      "[CV] END ...learning_rate=0.2, max_depth=7, n_estimators=200; total time=   1.4s\n"
     ]
    },
    {
     "name": "stderr",
     "output_type": "stream",
     "text": [
      "/Users/U1037319/Library/Python/3.9/lib/python/site-packages/xgboost/core.py:158: UserWarning: [19:51:33] WARNING: /Users/runner/work/xgboost/xgboost/src/learner.cc:740: \n",
      "Parameters: { \"use_label_encoder\" } are not used.\n",
      "\n",
      "  warnings.warn(smsg, UserWarning)\n",
      "2024/11/05 19:51:35 WARNING mlflow.models.model: Model logged without a signature and input example. Please set `input_example` parameter when logging the model to auto infer the model signature.\n",
      "2024/11/05 19:51:35 INFO mlflow.tracking._tracking_service.client: 🏃 View run XGBoost_20241105_195119 at: http://localhost:5000/#/experiments/873860809366273853/runs/c6a21bd69fce490b8ae9817c41c7a09e.\n",
      "2024/11/05 19:51:35 INFO mlflow.tracking._tracking_service.client: 🧪 View experiment at: http://localhost:5000/#/experiments/873860809366273853.\n"
     ]
    },
    {
     "name": "stdout",
     "output_type": "stream",
     "text": [
      "Best parameters: {'learning_rate': 0.2, 'max_depth': 3, 'n_estimators': 200}\n",
      "F1 Score: 0.5957223062082169\n",
      "Accuracy: 0.999983038485676\n"
     ]
    }
   ],
   "source": [
    "import mlflow\n",
    "import mlflow.sklearn\n",
    "from xgboost import XGBClassifier\n",
    "from sklearn.model_selection import GridSearchCV\n",
    "from sklearn.metrics import f1_score, accuracy_score\n",
    "import datetime\n",
    "\n",
    "# Configurar el tracking URI de MLflow\n",
    "mlflow.set_tracking_uri(\"http://localhost:5000\")\n",
    "\n",
    "\n",
    "# Convertir las clases en y_train y y_test para poder ejecutar XGBOOST\n",
    "y_train_binary = (y_train == 1).astype(int)  # 1 se convierte en 1, y 2 se convierte en 0\n",
    "y_test_binary = (y_test == 1).astype(int)    # Igual para el conjunto de prueba\n",
    "\n",
    "\n",
    "# Definir los parámetros para el Grid Search\n",
    "param_grid = {\n",
    "    'learning_rate': [0.01, 0.1, 0.2],\n",
    "    'max_depth': [3, 5, 7],\n",
    "    'n_estimators': [50, 100, 200]\n",
    "}\n",
    "\n",
    "# Configuración de GridSearchCV\n",
    "grid_search = GridSearchCV(estimator=XGBClassifier(use_label_encoder=False, eval_metric='logloss', random_state=42),\n",
    "                           param_grid=param_grid,\n",
    "                           scoring='f1_weighted',\n",
    "                           cv=3,\n",
    "                           n_jobs=-1,\n",
    "                           verbose=2)\n",
    "\n",
    "# Asignar nombre al experimento en MLflow\n",
    "mlflow.set_experiment(\"Experimento XGBoost\")\n",
    "run_name = f\"XGBoost_{datetime.datetime.now().strftime('%Y%m%d_%H%M%S')}\"\n",
    "\n",
    "# Iniciar experimento en MLflow\n",
    "with mlflow.start_run(run_name=run_name):\n",
    "    # Ajustar el modelo con Grid Search\n",
    "    grid_search.fit(X_train, y_train_binary)\n",
    "\n",
    "    # Mejor modelo y predicciones\n",
    "    best_model = grid_search.best_estimator_\n",
    "    y_pred = best_model.predict(X_test)\n",
    "\n",
    "    # Calcular métricas\n",
    "    f1 = f1_score(y_test, y_pred, average='weighted')\n",
    "    accuracy = accuracy_score(y_test_binary, y_pred)\n",
    "\n",
    "    # Registrar los parámetros y métricas en MLflow\n",
    "    mlflow.log_param(\"Best learning_rate\", grid_search.best_params_['learning_rate'])\n",
    "    mlflow.log_param(\"Best max_depth\", grid_search.best_params_['max_depth'])\n",
    "    mlflow.log_param(\"Best n_estimators\", grid_search.best_params_['n_estimators'])\n",
    "    mlflow.log_metric(\"f1_score\", f1)\n",
    "    mlflow.log_metric(\"accuracy\", accuracy)\n",
    "\n",
    "    # Guardar el modelo en MLflow\n",
    "    mlflow.sklearn.log_model(best_model, \"BestXGBoostModel\")\n",
    "\n",
    "print(\"Best parameters:\", grid_search.best_params_)\n",
    "print(\"F1 Score:\", f1)\n",
    "print(\"Accuracy:\", accuracy)\n"
   ]
  },
  {
   "cell_type": "markdown",
   "metadata": {},
   "source": []
  },
  {
   "cell_type": "code",
   "execution_count": null,
   "metadata": {},
   "outputs": [],
   "source": []
  }
 ],
 "metadata": {
  "kernelspec": {
   "display_name": "Python 3",
   "language": "python",
   "name": "python3"
  },
  "language_info": {
   "codemirror_mode": {
    "name": "ipython",
    "version": 3
   },
   "file_extension": ".py",
   "mimetype": "text/x-python",
   "name": "python",
   "nbconvert_exporter": "python",
   "pygments_lexer": "ipython3",
   "version": "3.9.6"
  }
 },
 "nbformat": 4,
 "nbformat_minor": 2
}
